import matplotlib.pyplot as plt
import numpy as np
x=np.linspace(-10, 10, 100)
y=np.sin(x)
z=np.cos(x)
plt.plot(x, y, marker="x", color="yellow")
plt.plot(x, z, marker="x", color="green")
